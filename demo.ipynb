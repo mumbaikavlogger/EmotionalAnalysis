{
 "cells": [
  {
   "cell_type": "markdown",
   "id": "a817a2ca",
   "metadata": {},
   "source": [
    "### FER Live Cam"
   ]
  },
  {
   "cell_type": "code",
   "execution_count": null,
   "id": "dcb82a39",
   "metadata": {},
   "outputs": [],
   "source": [
    "!python3 live_cam_predict.py "
   ]
  },
  {
   "cell_type": "markdown",
   "id": "5e072513",
   "metadata": {},
   "source": [
    "### FER Image"
   ]
  },
  {
   "cell_type": "code",
   "execution_count": null,
   "id": "4345e702",
   "metadata": {},
   "outputs": [],
   "source": [
    "!python3 img_predict.py /Users/Zeeshan/Downloads/IMG_7913.jpg"
   ]
  },
  {
   "cell_type": "code",
   "execution_count": 3,
   "id": "9a974cf5",
   "metadata": {},
   "outputs": [
    {
     "data": {
      "text/plain": [
       "['Traceback (most recent call last):',\n",
       " '  File \"/Users/Zeeshan/Facial-emotion-recognition-master/img_predict.py\", line 25, in <module>',\n",
       " '    gray_img = cv2.cvtColor(img, cv2.COLOR_BGR2GRAY)',\n",
       " \"cv2.error: OpenCV(4.7.0) /private/var/folders/lz/jq27yjxd7jldvcgj_14ncknc0000gp/T/pip-install-m7y0rm46/opencv-python_b12ecba13e724c59b83849dc548da276/opencv/modules/imgproc/src/color.cpp:182: error: (-215:Assertion failed) !_src.empty() in function 'cvtColor'\",\n",
       " '']"
      ]
     },
     "execution_count": 3,
     "metadata": {},
     "output_type": "execute_result"
    }
   ],
   "source": [
    "!!python3 img_predict.py /Users/Zeeshan/Downloads/"
   ]
  },
  {
   "cell_type": "code",
   "execution_count": null,
   "id": "c30daa86",
   "metadata": {},
   "outputs": [],
   "source": []
  }
 ],
 "metadata": {
  "kernelspec": {
   "display_name": "Python 3 (ipykernel)",
   "language": "python",
   "name": "python3"
  },
  "language_info": {
   "codemirror_mode": {
    "name": "ipython",
    "version": 3
   },
   "file_extension": ".py",
   "mimetype": "text/x-python",
   "name": "python",
   "nbconvert_exporter": "python",
   "pygments_lexer": "ipython3",
   "version": "3.9.12"
  }
 },
 "nbformat": 4,
 "nbformat_minor": 5
}
